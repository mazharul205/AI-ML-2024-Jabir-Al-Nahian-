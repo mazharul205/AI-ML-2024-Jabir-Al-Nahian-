{
 "cells": [
  {
   "cell_type": "code",
   "execution_count": 21,
   "id": "f61589d2-a773-4ddd-88f0-8b668dff0fb3",
   "metadata": {},
   "outputs": [
    {
     "name": "stdout",
     "output_type": "stream",
     "text": [
      "I am Karnal\n",
      "I like Python\n",
      "I use it most of the time\n",
      "It is use for Data Analysis\n"
     ]
    }
   ],
   "source": [
    "#inheritance\n",
    "class myself:  # Parent class \n",
    "    def text1(self):\n",
    "        print(\"I am Karnal\")\n",
    "\n",
    "    def text2(self):\n",
    "        print(\"I like Python\")\n",
    "\n",
    "    def text3(self):\n",
    "        print(\"I use it most of the time\")\n",
    "\n",
    "class pythonlan(myself): #child class \n",
    "     def text4(self):\n",
    "        print(\"It is use for Data Analysis\")\n",
    "        \n",
    "\n",
    "selfinfro = pythonlan()\n",
    "selfinfro.text1()\n",
    "selfinfro.text2()\n",
    "selfinfro.text3()\n",
    "selfinfro.text4()\n"
   ]
  },
  {
   "cell_type": "code",
   "execution_count": 38,
   "id": "a43b0d28-570a-4f24-8708-cf39d9c73ab9",
   "metadata": {},
   "outputs": [
    {
     "name": "stdout",
     "output_type": "stream",
     "text": [
      "Python is use for Data Analysis\n"
     ]
    }
   ],
   "source": [
    "#Method oveeriding\n",
    "class myself:  # Parent class \n",
    "    def __init__(self):\n",
    "        print(\"I am Karnal\")\n",
    "\n",
    "class pythonlan(myself): #child class \n",
    "     def __init__(self):\n",
    "        print(\"Python is use for Data Analysis\")\n",
    "\n",
    "selfinfro = pythonlan()\n"
   ]
  },
  {
   "cell_type": "code",
   "execution_count": 23,
   "id": "df6f77f1-adba-4f1e-91b4-a3079503b7ed",
   "metadata": {},
   "outputs": [
    {
     "name": "stdout",
     "output_type": "stream",
     "text": [
      "Python is use for Data Analysis\n",
      "I am Karnal\n"
     ]
    }
   ],
   "source": [
    "#Method oveeriding\n",
    "class myself:  # Parent class \n",
    "    def __init__(self):\n",
    "        print(\"I am Karnal\")\n",
    "\n",
    "class pythonlan(myself): #child class \n",
    "     def __init__(self):\n",
    "        print(\"Python is use for Data Analysis\")\n",
    "        super().__init__()\n",
    "\n",
    "selfinfro = pythonlan()\n"
   ]
  },
  {
   "cell_type": "code",
   "execution_count": 34,
   "id": "3ece32f0-0b30-4741-a360-b9fb99f42132",
   "metadata": {},
   "outputs": [
    {
     "name": "stdout",
     "output_type": "stream",
     "text": [
      "I am Karnal\n",
      "Python is use for Data Analysis\n"
     ]
    }
   ],
   "source": [
    "#Method oveeriding\n",
    "class myself:  # Parent class \n",
    "    def __init__(self):\n",
    "        print(\"I am Karnal\")\n",
    "\n",
    "class pythonlan(myself): #child class \n",
    "     def __init__(self):\n",
    "        super().__init__()\n",
    "        print(\"Python is use for Data Analysis\")\n",
    "\n",
    "selfinfro = pythonlan()"
   ]
  },
  {
   "cell_type": "code",
   "execution_count": 25,
   "id": "b319c6d3-30e8-4111-9318-8863413a6332",
   "metadata": {},
   "outputs": [
    {
     "name": "stdout",
     "output_type": "stream",
     "text": [
      "I am Karnal\n",
      "I like Python\n",
      "It is use for Data Analysis\n"
     ]
    }
   ],
   "source": [
    "#Multilevel\n",
    "class myself:  # Parent class \n",
    "    def text1(self):\n",
    "        print(\"I am Karnal\")\n",
    "\n",
    "class myself1(myself):    \n",
    "    def text2(self):\n",
    "        print(\"I like Python\")\n",
    "\n",
    "class pythonlan(myself1): #child class \n",
    "     def __init__(self):\n",
    "        super().text1()\n",
    "        super().text2()\n",
    "        print(\"It is use for Data Analysis\")\n",
    "        \n",
    "\n",
    "selfinfro = pythonlan()\n"
   ]
  },
  {
   "cell_type": "code",
   "execution_count": 27,
   "id": "06b47c4a-1068-40e6-94e3-eda16c9c963a",
   "metadata": {},
   "outputs": [
    {
     "name": "stdout",
     "output_type": "stream",
     "text": [
      "I am Karnal\n",
      "I like Python\n",
      "It is use for Data Analysis\n"
     ]
    }
   ],
   "source": [
    "#Multiple\n",
    "class myself:  # Parent class \n",
    "    def text1(self):\n",
    "        print(\"I am Karnal\")\n",
    "\n",
    "class myself1:    \n",
    "    def text2(self):\n",
    "        print(\"I like Python\")\n",
    "\n",
    "class pythonlan(myself,myself1): #child class \n",
    "     def __init__(self):\n",
    "        super().text1()\n",
    "        super().text2()\n",
    "        print(\"It is use for Data Analysis\")\n",
    "        \n",
    "\n",
    "selfinfro = pythonlan()"
   ]
  },
  {
   "cell_type": "code",
   "execution_count": 19,
   "id": "8765e6b2-452d-4951-9e5c-ce1f531b61cc",
   "metadata": {},
   "outputs": [
    {
     "name": "stdout",
     "output_type": "stream",
     "text": [
      "He is a Man\n",
      "He is a Father\n",
      "He is a Business man\n"
     ]
    }
   ],
   "source": [
    "#Polymarphism\n",
    "class Details:\n",
    "    def __init__(self, Name, Age):\n",
    "        self.Name = Name \n",
    "        self.Age = Age\n",
    "\n",
    "    def printfun(self):\n",
    "        pass\n",
    "\n",
    "class Man(Details):\n",
    "    def printfun(self):\n",
    "        print(\"He is a Man\")\n",
    "\n",
    "class Father(Details):\n",
    "    def printfun(self):\n",
    "        print(\"He is a Father\")\n",
    "\n",
    "class Business(Details):\n",
    "    def printfun(self):\n",
    "        print(\"He is a Business man\")\n",
    "\n",
    "Man = Man(\"Abdur Rahman\", 60)\n",
    "Father = Father(\"Abdur Rahman\", 60)\n",
    "Business = Business(\"Abdur Rahman\", 60)\n",
    "\n",
    "for x in (Man, Father, Business):\n",
    "   x.printfun() \n",
    "        "
   ]
  },
  {
   "cell_type": "code",
   "execution_count": 48,
   "id": "709ef877-6abd-4315-9950-62dd7196ca63",
   "metadata": {},
   "outputs": [
    {
     "name": "stdout",
     "output_type": "stream",
     "text": [
      "He is a Man\n",
      "He is a Father\n",
      "He is a Business man\n"
     ]
    }
   ],
   "source": [
    "#Encapsulation\n",
    "class Details:\n",
    "    def __init__(self, Name, Age):\n",
    "        self.Name = Name \n",
    "        self.Age = Age\n",
    "\n",
    "    def printfun(self):\n",
    "        pass\n",
    "\n",
    "class Man(Details):\n",
    "    def printfun(self):\n",
    "        print(\"He is a Man\")\n",
    "\n",
    "class Father(Details):\n",
    "    def printfun(self):\n",
    "        print(\"He is a Father\")\n",
    "\n",
    "class Business(Details):\n",
    "    def printfun(self):\n",
    "        print(\"He is a Business man\")\n",
    "\n",
    "Man = Man(\"Abdur Rahman\", 60)\n",
    "Father = Father(\"Abdur Rahman\", 60)\n",
    "Business = Business(\"Abdur Rahman\", 60)\n",
    "\n",
    "for x in (Man, Father, Business):\n",
    "   x.printfun() \n",
    "        "
   ]
  },
  {
   "cell_type": "code",
   "execution_count": 50,
   "id": "6f35ae04-369e-4b66-b1c0-58625bfb82e9",
   "metadata": {},
   "outputs": [
    {
     "name": "stdout",
     "output_type": "stream",
     "text": [
      "My father name is Baba, He is a Man\n",
      "He is a Father\n",
      "He is a Business man\n"
     ]
    }
   ],
   "source": [
    "#Encapsulation\n",
    "class Details:\n",
    "    def __init__(self, Name, Age):\n",
    "        self.__Name = Name \n",
    "        self.Age = Age\n",
    "\n",
    "    def printfun(self):\n",
    "        pass\n",
    "\n",
    "class Man(Details):\n",
    "    def printfun(self):\n",
    "        print(f\"My father name is {Man.Name}, He is a Man\")\n",
    "\n",
    "class Father(Details):\n",
    "    def printfun(self):\n",
    "        print(\"He is a Father\")\n",
    "\n",
    "class Business(Details):\n",
    "    def printfun(self):\n",
    "        print(\"He is a Business man\")\n",
    "\n",
    "Man = Man(\"Abdur Rahman\", 60)\n",
    "Man.Name = \"Baba\"\n",
    "Father = Father(\"Abdur Rahman\", 60)\n",
    "Business = Business(\"Abdur Rahman\", 60)\n",
    "\n",
    "for x in (Man, Father, Business):\n",
    "   x.printfun() \n",
    "        "
   ]
  },
  {
   "cell_type": "code",
   "execution_count": 73,
   "id": "73497f7d-8abb-4bc4-b828-955d618bbdb3",
   "metadata": {},
   "outputs": [
    {
     "name": "stdout",
     "output_type": "stream",
     "text": [
      "Hello My name is Karnal\n"
     ]
    }
   ],
   "source": [
    "#Encapsulation\n",
    "class Person:\n",
    "    def __init__(self, name, age):\n",
    "        self.name = name \n",
    "        self.age = age\n",
    "\n",
    "    def myfun(self):\n",
    "       print(\"Hello My name is \" + self.name)\n",
    "p1 = Person(\"Karnal\",205) \n",
    "p1.myfun()"
   ]
  },
  {
   "cell_type": "code",
   "execution_count": 75,
   "id": "21fb9f34-5675-4b01-84e1-ff067a629509",
   "metadata": {},
   "outputs": [
    {
     "name": "stdout",
     "output_type": "stream",
     "text": [
      "Hello My name is Mazharul\n"
     ]
    }
   ],
   "source": [
    "#Encapsulation\n",
    "class Person:\n",
    "    def __init__(self, name, age):\n",
    "        self.name = name \n",
    "        self.age = age\n",
    "\n",
    "    def myfun(self):\n",
    "       print(\"Hello My name is \" + self.name)\n",
    "p1 = Person(\"Karnal\",205) \n",
    "p1.name = \"Mazharul\"\n",
    "p1.myfun()"
   ]
  },
  {
   "cell_type": "code",
   "execution_count": 81,
   "id": "bde826d7-7948-46c6-87e1-d7e39a6e804d",
   "metadata": {},
   "outputs": [
    {
     "name": "stdout",
     "output_type": "stream",
     "text": [
      "Hello My name is Mazharul\n"
     ]
    }
   ],
   "source": [
    "#Encapsulation\n",
    "class Person:\n",
    "    def __init__(self, name, age):\n",
    "        self.name = name \n",
    "        self.age = age\n",
    "\n",
    "    def myfun(self):\n",
    "       print(\"Hello My name is \" + self.name)\n",
    "p1 = Person(\"Karnal\",205) \n",
    "p1.name = \"Mazharul\"\n",
    "p1.myfun()"
   ]
  },
  {
   "cell_type": "code",
   "execution_count": 83,
   "id": "305dbd90-e211-413b-9ab7-b72dded9973b",
   "metadata": {},
   "outputs": [
    {
     "name": "stdin",
     "output_type": "stream",
     "text": [
      "Enter a Number:  5\n",
      "Enter a Number:  6\n"
     ]
    },
    {
     "name": "stdout",
     "output_type": "stream",
     "text": [
      "Not Possible\n",
      "Program Sucess\n"
     ]
    }
   ],
   "source": [
    "#Excrption\n",
    "try:\n",
    "    num1 = input(\"Enter a Number: \")\n",
    "    num2 = input(\"Enter a Number: \")\n",
    "    int(sum =0)\n",
    "    sum = num1 + num2\n",
    "    print(sum)\n",
    "\n",
    "except:\n",
    "    print(\"Not Possible\")\n",
    "\n",
    "finally:\n",
    "    print(\"Program Sucess\")"
   ]
  },
  {
   "cell_type": "code",
   "execution_count": null,
   "id": "f02ed4c3-fda3-46c3-900f-b2cc8c3cbd17",
   "metadata": {},
   "outputs": [],
   "source": []
  }
 ],
 "metadata": {
  "kernelspec": {
   "display_name": "Python 3 (ipykernel)",
   "language": "python",
   "name": "python3"
  },
  "language_info": {
   "codemirror_mode": {
    "name": "ipython",
    "version": 3
   },
   "file_extension": ".py",
   "mimetype": "text/x-python",
   "name": "python",
   "nbconvert_exporter": "python",
   "pygments_lexer": "ipython3",
   "version": "3.12.4"
  }
 },
 "nbformat": 4,
 "nbformat_minor": 5
}
