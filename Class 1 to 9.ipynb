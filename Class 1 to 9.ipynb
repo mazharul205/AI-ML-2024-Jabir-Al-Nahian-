{
 "cells": [
  {
   "cell_type": "code",
   "execution_count": 2,
   "id": "cffb9b99",
   "metadata": {},
   "outputs": [
    {
     "data": {
      "text/plain": [
       "4"
      ]
     },
     "execution_count": 2,
     "metadata": {},
     "output_type": "execute_result"
    }
   ],
   "source": [
    "#Calculate\n",
    "2+2"
   ]
  },
  {
   "cell_type": "code",
   "execution_count": 2,
   "id": "8c0e38b1",
   "metadata": {},
   "outputs": [
    {
     "data": {
      "text/plain": [
       "10"
      ]
     },
     "execution_count": 2,
     "metadata": {},
     "output_type": "execute_result"
    }
   ],
   "source": [
    "2+2\n",
    "2*5"
   ]
  },
  {
   "cell_type": "code",
   "execution_count": 3,
   "id": "a746a773",
   "metadata": {},
   "outputs": [
    {
     "name": "stdout",
     "output_type": "stream",
     "text": [
      "4\n",
      "4\n",
      "1.0\n",
      "0\n"
     ]
    }
   ],
   "source": [
    "print(2+2)\n",
    "print(2*2)\n",
    "print(2/2)\n",
    "print(2-2)"
   ]
  },
  {
   "cell_type": "code",
   "execution_count": 4,
   "id": "4da41422",
   "metadata": {},
   "outputs": [
    {
     "name": "stdout",
     "output_type": "stream",
     "text": [
      "Hi\n"
     ]
    }
   ],
   "source": [
    "Thisline = True\n",
    "if Thisline:\n",
    "    print(\"Hi\")"
   ]
  },
  {
   "cell_type": "code",
   "execution_count": 5,
   "id": "a38ffede",
   "metadata": {},
   "outputs": [],
   "source": [
    "Thisline = False\n",
    "if Thisline:\n",
    "    print(\"Hi\")\n"
   ]
  },
  {
   "cell_type": "code",
   "execution_count": 6,
   "id": "aee85113",
   "metadata": {},
   "outputs": [
    {
     "data": {
      "text/plain": [
       "'I am Karnal'"
      ]
     },
     "execution_count": 6,
     "metadata": {},
     "output_type": "execute_result"
    }
   ],
   "source": [
    "\"I am Karnal\""
   ]
  },
  {
   "cell_type": "code",
   "execution_count": 7,
   "id": "ba1ec530",
   "metadata": {},
   "outputs": [
    {
     "data": {
      "text/plain": [
       "\"dosen't\""
      ]
     },
     "execution_count": 7,
     "metadata": {},
     "output_type": "execute_result"
    }
   ],
   "source": [
    "\"dosen't\""
   ]
  },
  {
   "cell_type": "code",
   "execution_count": 8,
   "id": "f5395c3d",
   "metadata": {},
   "outputs": [
    {
     "name": "stdout",
     "output_type": "stream",
     "text": [
      "dosen't\n",
      "dosen't\n"
     ]
    }
   ],
   "source": [
    "print(\"dosen't\")\n",
    "print('dosen\\'t')"
   ]
  },
  {
   "cell_type": "code",
   "execution_count": 9,
   "id": "689e8b45",
   "metadata": {},
   "outputs": [
    {
     "name": "stdout",
     "output_type": "stream",
     "text": [
      "Course : PYTHON\n",
      "Date : 04-09-2024\n",
      "Time : 12:35pm\n",
      "\n"
     ]
    }
   ],
   "source": [
    "print(\"\"\"\\\n",
    "Course : PYTHON\n",
    "Date : 04-09-2024\n",
    "Time : 12:35pm\n",
    "\"\"\")"
   ]
  },
  {
   "cell_type": "code",
   "execution_count": 10,
   "id": "05b89232",
   "metadata": {},
   "outputs": [
    {
     "name": "stdout",
     "output_type": "stream",
     "text": [
      "Karnal Karnal Karnal Karnal Karnal \n"
     ]
    }
   ],
   "source": [
    "print(5 * 'Karnal ')"
   ]
  },
  {
   "cell_type": "code",
   "execution_count": 11,
   "id": "a52f1e4d",
   "metadata": {},
   "outputs": [
    {
     "data": {
      "text/plain": [
       "'Mazharul Islam Karnal'"
      ]
     },
     "execution_count": 11,
     "metadata": {},
     "output_type": "execute_result"
    }
   ],
   "source": [
    "a=\"Mazharul Islam \" + \"Karnal\"\n",
    "a"
   ]
  },
  {
   "cell_type": "code",
   "execution_count": 12,
   "id": "3288b5e1",
   "metadata": {},
   "outputs": [
    {
     "data": {
      "text/plain": [
       "'k'"
      ]
     },
     "execution_count": 12,
     "metadata": {},
     "output_type": "execute_result"
    }
   ],
   "source": [
    "a= \"karnal\"\n",
    "a[0]"
   ]
  },
  {
   "cell_type": "code",
   "execution_count": 13,
   "id": "03d5df15",
   "metadata": {},
   "outputs": [
    {
     "data": {
      "text/plain": [
       "'l'"
      ]
     },
     "execution_count": 13,
     "metadata": {},
     "output_type": "execute_result"
    }
   ],
   "source": [
    "a[5]"
   ]
  },
  {
   "cell_type": "code",
   "execution_count": 14,
   "id": "b487ee44",
   "metadata": {},
   "outputs": [
    {
     "data": {
      "text/plain": [
       "'l'"
      ]
     },
     "execution_count": 14,
     "metadata": {},
     "output_type": "execute_result"
    }
   ],
   "source": [
    "a[-1]"
   ]
  },
  {
   "cell_type": "code",
   "execution_count": 15,
   "id": "6ae16f7f",
   "metadata": {},
   "outputs": [
    {
     "data": {
      "text/plain": [
       "'ar'"
      ]
     },
     "execution_count": 15,
     "metadata": {},
     "output_type": "execute_result"
    }
   ],
   "source": [
    "a[1:3]"
   ]
  },
  {
   "cell_type": "code",
   "execution_count": 16,
   "id": "3c4157e3",
   "metadata": {},
   "outputs": [
    {
     "data": {
      "text/plain": [
       "'kar'"
      ]
     },
     "execution_count": 16,
     "metadata": {},
     "output_type": "execute_result"
    }
   ],
   "source": [
    "a[:3]"
   ]
  },
  {
   "cell_type": "code",
   "execution_count": 17,
   "id": "4a2c2bf9",
   "metadata": {},
   "outputs": [
    {
     "data": {
      "text/plain": [
       "'karn'"
      ]
     },
     "execution_count": 17,
     "metadata": {},
     "output_type": "execute_result"
    }
   ],
   "source": [
    "a[:-2]"
   ]
  },
  {
   "cell_type": "code",
   "execution_count": 18,
   "id": "4ec33356",
   "metadata": {},
   "outputs": [
    {
     "name": "stdout",
     "output_type": "stream",
     "text": [
      "Carnal\n"
     ]
    }
   ],
   "source": [
    "#string\n",
    "print(\"C\"+a[1:])"
   ]
  },
  {
   "cell_type": "code",
   "execution_count": 19,
   "id": "c65f0704",
   "metadata": {},
   "outputs": [
    {
     "data": {
      "text/plain": [
       "6"
      ]
     },
     "execution_count": 19,
     "metadata": {},
     "output_type": "execute_result"
    }
   ],
   "source": [
    "len(a)"
   ]
  },
  {
   "cell_type": "code",
   "execution_count": 4,
   "id": "7c612d38",
   "metadata": {},
   "outputs": [
    {
     "name": "stdout",
     "output_type": "stream",
     "text": [
      "[1, 2, 3, 4, 5, 'a', 'b', 'c']\n"
     ]
    }
   ],
   "source": [
    "#list\n",
    "list1 = [1,2,3,4,5]\n",
    "list2 = [\"a\", \"b\",\"c\"]\n",
    "print(list1 + list2)"
   ]
  },
  {
   "cell_type": "code",
   "execution_count": 21,
   "id": "7bd0b4e9",
   "metadata": {},
   "outputs": [
    {
     "data": {
      "text/plain": [
       "[1, 2, 3, 4]"
      ]
     },
     "execution_count": 21,
     "metadata": {},
     "output_type": "execute_result"
    }
   ],
   "source": [
    "list1[:4]"
   ]
  },
  {
   "cell_type": "code",
   "execution_count": 23,
   "id": "18ccfbe5",
   "metadata": {},
   "outputs": [
    {
     "name": "stdout",
     "output_type": "stream",
     "text": [
      "<class 'str'>\n"
     ]
    }
   ],
   "source": [
    "a= \"hello world\"\n",
    "print(type(a))"
   ]
  },
  {
   "cell_type": "code",
   "execution_count": 24,
   "id": "b1ec5732",
   "metadata": {},
   "outputs": [
    {
     "data": {
      "text/plain": [
       "int"
      ]
     },
     "execution_count": 24,
     "metadata": {},
     "output_type": "execute_result"
    }
   ],
   "source": [
    "b=20\n",
    "type(b)"
   ]
  },
  {
   "cell_type": "code",
   "execution_count": 25,
   "id": "3e73d5c0",
   "metadata": {},
   "outputs": [
    {
     "data": {
      "text/plain": [
       "float"
      ]
     },
     "execution_count": 25,
     "metadata": {},
     "output_type": "execute_result"
    }
   ],
   "source": [
    "c=20.5 \n",
    "type(c)"
   ]
  },
  {
   "cell_type": "code",
   "execution_count": 26,
   "id": "03cfe01f",
   "metadata": {},
   "outputs": [
    {
     "data": {
      "text/plain": [
       "complex"
      ]
     },
     "execution_count": 26,
     "metadata": {},
     "output_type": "execute_result"
    }
   ],
   "source": [
    "d=10j\n",
    "type(d)"
   ]
  },
  {
   "cell_type": "code",
   "execution_count": 1,
   "id": "051cae0f",
   "metadata": {},
   "outputs": [
    {
     "data": {
      "text/plain": [
       "list"
      ]
     },
     "execution_count": 1,
     "metadata": {},
     "output_type": "execute_result"
    }
   ],
   "source": [
    "f = [\"apple\"]\n",
    "type(f)"
   ]
  },
  {
   "cell_type": "code",
   "execution_count": 2,
   "id": "56ce4329",
   "metadata": {},
   "outputs": [
    {
     "data": {
      "text/plain": [
       "str"
      ]
     },
     "execution_count": 2,
     "metadata": {},
     "output_type": "execute_result"
    }
   ],
   "source": [
    "g=(\"apple\")\n",
    "type(g)"
   ]
  },
  {
   "cell_type": "code",
   "execution_count": 4,
   "id": "2a76756c",
   "metadata": {},
   "outputs": [
    {
     "data": {
      "text/plain": [
       "tuple"
      ]
     },
     "execution_count": 4,
     "metadata": {},
     "output_type": "execute_result"
    }
   ],
   "source": [
    "g=(\"apple\", \"Banana\")\n",
    "type(g)"
   ]
  },
  {
   "cell_type": "code",
   "execution_count": 5,
   "id": "f025d642",
   "metadata": {},
   "outputs": [
    {
     "data": {
      "text/plain": [
       "bool"
      ]
     },
     "execution_count": 5,
     "metadata": {},
     "output_type": "execute_result"
    }
   ],
   "source": [
    "k=True\n",
    "type(k)                                                                                                                                                                                                                                                                                                                                                                                                                                                                                                                                                                                                                                                                                                                                                                                                                                                                                                                                                                                                                                                                                                                                                                                                                                                                                                                                                                                                                                                                                                                                                                                                                                                                                                                                                                                                                                                                                                                                                                                                                                                                                                                                                                                                                                                                                                                                                                                                                                                                                                                                                                                                                                                                                                                                                                                                                                                                                                                                                                                                                                                                                                                                                                                                                                                                                                                                                                                                                                                                                                                                                                                                                                                                                                                                                                                                                                                                                                                                                                                                                                                                                                                                                                                                                                                                                                                                                                                                                                                                                                                                                                                                                                                                                                                                                                                                                                                                                                                                                                                                                                                                                                                                                                                                                                                                                                                                                                                                                                                                                                                                                                                                                                                                                                                                                                                                                                                                                                                                                                                                                                                                                                                                                                                                                                                                                                                                                                                                                                                                                                                                                                                                                                                                                                                                                                                                                                                                                                                                                                                                                                                                                                                                                                                                                                                                                                                                                                                                                                                                                                                                                                                                                                                                                                                                                                                                                                                                                                                                                                                                                                                                                                                                                                                                                                                                                                                                                                                                                                                               "
   ]
  },
  {
   "cell_type": "code",
   "execution_count": 7,
   "id": "4ba69806",
   "metadata": {},
   "outputs": [
    {
     "name": "stdout",
     "output_type": "stream",
     "text": [
      "5.0\n"
     ]
    }
   ],
   "source": [
    "#Casting\n",
    "x=float(5)\n",
    "print(x)"
   ]
  },
  {
   "cell_type": "code",
   "execution_count": 8,
   "id": "7318d11c",
   "metadata": {},
   "outputs": [
    {
     "name": "stdout",
     "output_type": "stream",
     "text": [
      "345\n"
     ]
    }
   ],
   "source": [
    "var1=str(345)\n",
    "print(var1)"
   ]
  },
  {
   "cell_type": "code",
   "execution_count": 9,
   "id": "3badbc1b",
   "metadata": {},
   "outputs": [
    {
     "data": {
      "text/plain": [
       "str"
      ]
     },
     "execution_count": 9,
     "metadata": {},
     "output_type": "execute_result"
    }
   ],
   "source": [
    "type(var1)"
   ]
  },
  {
   "cell_type": "code",
   "execution_count": 10,
   "id": "c975c301",
   "metadata": {},
   "outputs": [
    {
     "name": "stdout",
     "output_type": "stream",
     "text": [
      "36\n"
     ]
    }
   ],
   "source": [
    "ab=str(3)\n",
    "bc=str(6)\n",
    "print(ab+bc)"
   ]
  },
  {
   "cell_type": "code",
   "execution_count": 11,
   "id": "ac70247e",
   "metadata": {},
   "outputs": [
    {
     "name": "stdout",
     "output_type": "stream",
     "text": [
      "9\n"
     ]
    }
   ],
   "source": [
    "ab=int(3)\n",
    "bc=int(6)\n",
    "print(ab+bc)"
   ]
  },
  {
   "cell_type": "code",
   "execution_count": 12,
   "id": "7d7cda95",
   "metadata": {},
   "outputs": [
    {
     "name": "stdout",
     "output_type": "stream",
     "text": [
      "9.0\n"
     ]
    }
   ],
   "source": [
    "ab=float(3)\n",
    "bc=float(6)\n",
    "print(ab+bc)"
   ]
  },
  {
   "cell_type": "code",
   "execution_count": 16,
   "id": "1d792b6f",
   "metadata": {},
   "outputs": [
    {
     "name": "stdout",
     "output_type": "stream",
     "text": [
      "Enter  inter number: 10\n"
     ]
    }
   ],
   "source": [
    "#input method\n",
    "var2=int(input(\"Enter  inter number: \"))"
   ]
  },
  {
   "cell_type": "code",
   "execution_count": 2,
   "id": "22e2c839",
   "metadata": {},
   "outputs": [
    {
     "name": "stdout",
     "output_type": "stream",
     "text": [
      "Enter  inter number: 5.2\n"
     ]
    }
   ],
   "source": [
    "#input method\n",
    "var3=float(input(\"Enter  float number: \"))"
   ]
  },
  {
   "cell_type": "code",
   "execution_count": 4,
   "id": "37ad45d2",
   "metadata": {},
   "outputs": [
    {
     "name": "stdout",
     "output_type": "stream",
     "text": [
      "Enter string number: Mazharul\n"
     ]
    }
   ],
   "source": [
    "var4=str(input(\"Enter string number: \"))"
   ]
  },
  {
   "cell_type": "code",
   "execution_count": 5,
   "id": "a2767580",
   "metadata": {},
   "outputs": [
    {
     "name": "stdout",
     "output_type": "stream",
     "text": [
      "Enter string number: Karnal\n"
     ]
    }
   ],
   "source": [
    "var4=input(\"Enter string number: \")"
   ]
  },
  {
   "cell_type": "code",
   "execution_count": 1,
   "id": "3118f2d0",
   "metadata": {},
   "outputs": [
    {
     "name": "stdout",
     "output_type": "stream",
     "text": [
      "Enter string number: kar\n",
      "Number is: kar\n"
     ]
    }
   ],
   "source": [
    "var5 = str(input(\"Enter string number: \"))\n",
    "print(\"Number is:\", var5)"
   ]
  },
  {
   "cell_type": "code",
   "execution_count": 4,
   "id": "a51276f3",
   "metadata": {},
   "outputs": [
    {
     "name": "stdout",
     "output_type": "stream",
     "text": [
      "Enter a Integer Number: 6\n",
      "Positive\n"
     ]
    }
   ],
   "source": [
    "#condition\n",
    "x = int(input(\"Enter a Integer Number: \"))\n",
    "if x<0:\n",
    "    print(\"Negative\")\n",
    "elif x==0:\n",
    "    print(\"Nutral\")\n",
    "else:\n",
    "    print(\"Positive\")"
   ]
  },
  {
   "cell_type": "code",
   "execution_count": 6,
   "id": "2011cfdc",
   "metadata": {},
   "outputs": [
    {
     "name": "stdin",
     "output_type": "stream",
     "text": [
      "Enter a positive Number:  5\n"
     ]
    },
    {
     "name": "stdout",
     "output_type": "stream",
     "text": [
      "Number is not divisible by 2 & 3\n"
     ]
    }
   ],
   "source": [
    "#Nested if\n",
    "num = int(input(\"Enter a positive Number: \"))\n",
    "if num%2==0:\n",
    "    if num%3==0:\n",
    "        print(\"Number is divisible by 2 & 3\")\n",
    "    else:\n",
    "        print(\"Number is divisible by 2 & not Divisible by 3\") \n",
    "else:\n",
    "    if num%3==0:\n",
    "        print(\"Number is divisible by 3 & not Divisible by 2\")\n",
    "        \n",
    "    else:\n",
    "        print(\"Number is not divisible by 2 & 3\")\n",
    "    "
   ]
  },
  {
   "cell_type": "code",
   "execution_count": 10,
   "id": "732a6383",
   "metadata": {},
   "outputs": [
    {
     "name": "stdout",
     "output_type": "stream",
     "text": [
      "3.0\n"
     ]
    }
   ],
   "source": [
    "from math import *\n",
    "print(sqrt(9))"
   ]
  },
  {
   "cell_type": "code",
   "execution_count": 12,
   "id": "a40e351e",
   "metadata": {},
   "outputs": [
    {
     "name": "stdout",
     "output_type": "stream",
     "text": [
      "1\n"
     ]
    }
   ],
   "source": [
    "print(min(6,5,1))"
   ]
  },
  {
   "cell_type": "code",
   "execution_count": 14,
   "id": "e5827123-0f19-41a2-9ee8-9362b2df9c1b",
   "metadata": {},
   "outputs": [
    {
     "name": "stdout",
     "output_type": "stream",
     "text": [
      "6\n"
     ]
    }
   ],
   "source": [
    "print(max(6,5,1))"
   ]
  },
  {
   "cell_type": "code",
   "execution_count": 20,
   "id": "8258f370-8326-4fc4-8958-160f65088444",
   "metadata": {},
   "outputs": [
    {
     "name": "stdout",
     "output_type": "stream",
     "text": [
      "6\n"
     ]
    }
   ],
   "source": [
    "print(abs(-6))"
   ]
  },
  {
   "cell_type": "code",
   "execution_count": 22,
   "id": "36f767dc-3cad-41e1-98c5-6609fa459163",
   "metadata": {},
   "outputs": [
    {
     "name": "stdout",
     "output_type": "stream",
     "text": [
      "7\n"
     ]
    }
   ],
   "source": [
    "print(ceil(6.5))"
   ]
  },
  {
   "cell_type": "code",
   "execution_count": 26,
   "id": "efba3fb1-0285-4420-be6e-034e344431aa",
   "metadata": {},
   "outputs": [
    {
     "name": "stdout",
     "output_type": "stream",
     "text": [
      "7\n"
     ]
    }
   ],
   "source": [
    "print(round(6.6))"
   ]
  },
  {
   "cell_type": "code",
   "execution_count": 28,
   "id": "7905a22e-c039-4b86-bd66-cc1af2ca3985",
   "metadata": {},
   "outputs": [
    {
     "name": "stdout",
     "output_type": "stream",
     "text": [
      "6\n"
     ]
    }
   ],
   "source": [
    "print(round(6.4))"
   ]
  },
  {
   "cell_type": "code",
   "execution_count": 32,
   "id": "58d3d12b-6e21-47eb-97b5-aa3ce5334e54",
   "metadata": {},
   "outputs": [
    {
     "name": "stdout",
     "output_type": "stream",
     "text": [
      "1.6197751905438615\n"
     ]
    }
   ],
   "source": [
    "print(tan(45))"
   ]
  },
  {
   "cell_type": "code",
   "execution_count": 34,
   "id": "092b88d2-c5cc-41ac-bbdb-2ec406948cf3",
   "metadata": {},
   "outputs": [
    {
     "name": "stdout",
     "output_type": "stream",
     "text": [
      "0.8939966636005579\n"
     ]
    }
   ],
   "source": [
    "print(sin(90))"
   ]
  },
  {
   "cell_type": "code",
   "execution_count": 36,
   "id": "e22069d7-5db7-41fe-9fa5-3a1cbeb2705b",
   "metadata": {},
   "outputs": [
    {
     "name": "stdout",
     "output_type": "stream",
     "text": [
      "-0.5012027833801532\n"
     ]
    }
   ],
   "source": [
    "print(1/tan(90))"
   ]
  },
  {
   "cell_type": "code",
   "execution_count": 42,
   "id": "f8123069-bbe3-4f5a-9f8a-9b7e78a105d0",
   "metadata": {},
   "outputs": [
    {
     "name": "stdout",
     "output_type": "stream",
     "text": [
      "6\n",
      "12\n"
     ]
    }
   ],
   "source": [
    "#User define function\n",
    "def add (a,b):\n",
    "    sum=a+b\n",
    "    print(sum)\n",
    "\n",
    "add(2,4)\n",
    "add(5,7)"
   ]
  },
  {
   "cell_type": "code",
   "execution_count": 44,
   "id": "c2081ce3-9358-415a-90b4-b1c30eb2c5da",
   "metadata": {},
   "outputs": [
    {
     "name": "stdout",
     "output_type": "stream",
     "text": [
      "Result:  6\n"
     ]
    }
   ],
   "source": [
    "#User define function\n",
    "def add (a,b):\n",
    "    sum=a+b\n",
    "    return sum\n",
    "\n",
    "result=add(2,4)\n",
    "print(\"Result: \", result)"
   ]
  },
  {
   "cell_type": "code",
   "execution_count": 19,
   "id": "414f14b7-1d2f-4858-9154-a16c1934cd1d",
   "metadata": {},
   "outputs": [
    {
     "name": "stdout",
     "output_type": "stream",
     "text": [
      "30\n"
     ]
    }
   ],
   "source": [
    "def add(a,b):\n",
    "    return a+b\n",
    "k=add(10,20)\n",
    "print(k)"
   ]
  },
  {
   "cell_type": "code",
   "execution_count": 1,
   "id": "5c18be5f-6b26-4c23-ac05-66483c333136",
   "metadata": {},
   "outputs": [
    {
     "name": "stdout",
     "output_type": "stream",
     "text": [
      "Result:  6\n"
     ]
    }
   ],
   "source": [
    "def add (a,b):\n",
    "    sum=a+b\n",
    "    return sum\n",
    "\n",
    "result=add(2,4)\n",
    "print(\"Result: \", result)"
   ]
  },
  {
   "cell_type": "code",
   "execution_count": 5,
   "id": "d4a40b1c-04c9-495b-95b9-ce487a192526",
   "metadata": {},
   "outputs": [
    {
     "name": "stdout",
     "output_type": "stream",
     "text": [
      "Result:  12\n"
     ]
    }
   ],
   "source": [
    "def add (a,b):\n",
    "    sum=a+b\n",
    "    return sum\n",
    "\n",
    "result=add(8,4)\n",
    "print(\"Result: \", result)"
   ]
  },
  {
   "cell_type": "code",
   "execution_count": 17,
   "id": "41f7fda7-e623-405a-8474-a81239bf146e",
   "metadata": {},
   "outputs": [
    {
     "name": "stdout",
     "output_type": "stream",
     "text": [
      "('CGPA:', 3.35)\n"
     ]
    }
   ],
   "source": [
    "# x arguments\n",
    "def add (*twoadd):\n",
    "    print(twoadd)\n",
    "  \n",
    "add(\"CGPA:\", 3.35)"
   ]
  },
  {
   "cell_type": "code",
   "execution_count": 25,
   "id": "4cd08f51-dd19-48a4-b1d8-246d81b32a71",
   "metadata": {},
   "outputs": [
    {
     "name": "stdout",
     "output_type": "stream",
     "text": [
      "{'Name': 'Md. Mazharul Islam', 'CGPA': 3.35}\n"
     ]
    }
   ],
   "source": [
    "# xx arguments\n",
    "def add(**twoadd):\n",
    "    print(twoadd)\n",
    "  \n",
    "add(Name = \"Md. Mazharul Islam\", CGPA= 3.35)"
   ]
  },
  {
   "cell_type": "code",
   "execution_count": 39,
   "id": "6de5e30d-0eec-4b89-883d-9c2f34faa3f2",
   "metadata": {},
   "outputs": [
    {
     "name": "stdout",
     "output_type": "stream",
     "text": [
      "1\n",
      "2\n",
      "3\n",
      "4\n"
     ]
    }
   ],
   "source": [
    "#while loop\n",
    "i= 1 #initializtion\n",
    "while i<5: #Condition\n",
    "    print(i) #statement\n",
    "    i=i+1  #update\n",
    "    "
   ]
  },
  {
   "cell_type": "code",
   "execution_count": 41,
   "id": "d0325f7b-11c3-46ba-a9e0-77b4b9d6b0c9",
   "metadata": {},
   "outputs": [
    {
     "name": "stdout",
     "output_type": "stream",
     "text": [
      "1\n",
      "2\n",
      "3\n",
      "4\n",
      "5\n"
     ]
    }
   ],
   "source": [
    "#while loop\n",
    "i= 1 #initializtion\n",
    "while i<=5: #Condition\n",
    "    print(i) #statement\n",
    "    i=i+1 #update"
   ]
  },
  {
   "cell_type": "code",
   "execution_count": 43,
   "id": "ac98c263-4cdf-43ab-b300-087e47acfa5e",
   "metadata": {},
   "outputs": [
    {
     "name": "stdout",
     "output_type": "stream",
     "text": [
      "1\n",
      "3\n",
      "5\n",
      "7\n",
      "9\n",
      "11\n",
      "13\n",
      "15\n"
     ]
    }
   ],
   "source": [
    "#while loop\n",
    "i= 1 #initializtion\n",
    "while i<=15: #Condition\n",
    "    print(i) #statement\n",
    "    i=i+2 #update"
   ]
  },
  {
   "cell_type": "code",
   "execution_count": 51,
   "id": "0f8eb85b-21ce-41df-825b-95b54dfe063d",
   "metadata": {},
   "outputs": [
    {
     "name": "stdout",
     "output_type": "stream",
     "text": [
      "2\n",
      "4\n",
      "6\n",
      "8\n",
      "10\n",
      "12\n",
      "14\n"
     ]
    }
   ],
   "source": [
    "#while loop\n",
    "i= 2 #initializtion\n",
    "while i<=15: #Condition\n",
    "    print(i) #statement\n",
    "    i=i+2 #update"
   ]
  },
  {
   "cell_type": "code",
   "execution_count": 63,
   "id": "423eb15f-6eb1-4557-ae5e-26650d52fddc",
   "metadata": {},
   "outputs": [
    {
     "name": "stdout",
     "output_type": "stream",
     "text": [
      "120\n"
     ]
    }
   ],
   "source": [
    "#while loop\n",
    "sum5=0\n",
    "i= 1 #initializtion\n",
    "while i<=15: #Condition\n",
    "    sum5=sum5+i\n",
    "    i=i+1 #update\n",
    "print(sum5) #statement\n",
    " "
   ]
  },
  {
   "cell_type": "code",
   "execution_count": 1,
   "id": "d4ec3d81-b87a-4c76-a69f-b13406b42ca2",
   "metadata": {},
   "outputs": [
    {
     "name": "stdout",
     "output_type": "stream",
     "text": [
      "1\n",
      "2\n",
      "3\n",
      "4\n",
      "5\n"
     ]
    }
   ],
   "source": [
    "#Break\n",
    "i= 1 #initializtion\n",
    "while i<=15: #Condition\n",
    "    if i==6:\n",
    "        break\n",
    "    print(i) #statement\n",
    "    i=i+1 #update"
   ]
  },
  {
   "cell_type": "code",
   "execution_count": null,
   "id": "7a06014f-b96f-4424-bdac-e307f15aa26c",
   "metadata": {},
   "outputs": [
    {
     "name": "stdout",
     "output_type": "stream",
     "text": [
      "1\n",
      "2\n",
      "3\n",
      "4\n",
      "5\n"
     ]
    }
   ],
   "source": [
    "#Continus\n",
    "i= 1 #initializtion\n",
    "while i<=15: #Condition\n",
    "    if i==6:\n",
    "       continue\n",
    "    print(i) #statement\n",
    "    i=i+1 #update"
   ]
  },
  {
   "cell_type": "code",
   "execution_count": 3,
   "id": "2a967a1a-0525-418b-b723-b05dd17f5db0",
   "metadata": {},
   "outputs": [
    {
     "name": "stdout",
     "output_type": "stream",
     "text": [
      "[5, 6, 7, 8, 9, 10]\n"
     ]
    }
   ],
   "source": [
    "#RANGE FUNCTION\n",
    "list2=list(range(5,11))\n",
    "print(list2)"
   ]
  },
  {
   "cell_type": "code",
   "execution_count": 5,
   "id": "17e9a171-8c29-4b9b-9158-6f02cde41a87",
   "metadata": {},
   "outputs": [],
   "source": [
    "list1=[1,2,3,4,5]\n"
   ]
  },
  {
   "cell_type": "code",
   "execution_count": 7,
   "id": "f3bc4556-da44-4ec2-b866-e256430cfb9f",
   "metadata": {},
   "outputs": [
    {
     "name": "stdout",
     "output_type": "stream",
     "text": [
      "True\n"
     ]
    }
   ],
   "source": [
    "print(2 in list1)"
   ]
  },
  {
   "cell_type": "code",
   "execution_count": 9,
   "id": "2445d29e-fe60-45a1-a7df-d2df9acda9a0",
   "metadata": {},
   "outputs": [
    {
     "name": "stdout",
     "output_type": "stream",
     "text": [
      "False\n"
     ]
    }
   ],
   "source": [
    "print(2 in list2)"
   ]
  },
  {
   "cell_type": "code",
   "execution_count": 13,
   "id": "b1f37100-49e5-4a97-b31a-62c3a28e38fd",
   "metadata": {},
   "outputs": [
    {
     "name": "stdout",
     "output_type": "stream",
     "text": [
      "True\n"
     ]
    }
   ],
   "source": [
    "print(11 not in list1)"
   ]
  },
  {
   "cell_type": "code",
   "execution_count": 15,
   "id": "3bc48813-c509-476d-ae70-637431ffdf78",
   "metadata": {},
   "outputs": [
    {
     "name": "stdout",
     "output_type": "stream",
     "text": [
      "[1, 2, 3, 4, 5, 6]\n"
     ]
    }
   ],
   "source": [
    "list3 = [1,2,3,4,5,6]\n",
    "print(list3)"
   ]
  },
  {
   "cell_type": "code",
   "execution_count": 18,
   "id": "61180e44-1158-4e20-81b7-f7e7a318e256",
   "metadata": {},
   "outputs": [
    {
     "name": "stdout",
     "output_type": "stream",
     "text": [
      "[1, 2, 3, 4, 5, 6, 8]\n"
     ]
    }
   ],
   "source": [
    "list4 = list3 + [8]\n",
    "print(list4)"
   ]
  },
  {
   "cell_type": "code",
   "execution_count": 20,
   "id": "6d5ae7f1-5a47-4e04-8fec-1a942003c161",
   "metadata": {},
   "outputs": [
    {
     "name": "stdout",
     "output_type": "stream",
     "text": [
      "[1, 2, 3, 4, 5, 6, 8, 9]\n"
     ]
    }
   ],
   "source": [
    "list4.append(9)\n",
    "print(list4)"
   ]
  },
  {
   "cell_type": "code",
   "execution_count": 22,
   "id": "d43a56ba-24b4-46bf-9021-a4674cf93a71",
   "metadata": {},
   "outputs": [
    {
     "data": {
      "text/plain": [
       "8"
      ]
     },
     "execution_count": 22,
     "metadata": {},
     "output_type": "execute_result"
    }
   ],
   "source": [
    "len(list4)"
   ]
  },
  {
   "cell_type": "code",
   "execution_count": 30,
   "id": "ff775bfd-3762-4654-b746-35b776807e74",
   "metadata": {},
   "outputs": [
    {
     "data": {
      "text/plain": [
       "3"
      ]
     },
     "execution_count": 30,
     "metadata": {},
     "output_type": "execute_result"
    }
   ],
   "source": [
    "list4[2]"
   ]
  },
  {
   "cell_type": "code",
   "execution_count": 34,
   "id": "0154eb21-1478-4a88-82e7-4797d9fc3734",
   "metadata": {},
   "outputs": [
    {
     "data": {
      "text/plain": [
       "[1, 2, 3, 4, 5, 6, 8, 9, 7, 7]"
      ]
     },
     "execution_count": 34,
     "metadata": {},
     "output_type": "execute_result"
    }
   ],
   "source": [
    "list4.insert(8,7)\n",
    "list4"
   ]
  },
  {
   "cell_type": "code",
   "execution_count": 36,
   "id": "9c047b0a-608e-4c83-b931-048a618e1f2f",
   "metadata": {},
   "outputs": [
    {
     "data": {
      "text/plain": [
       "[1, 2, 3, 4, 5, 6, 8, 9, 7]"
      ]
     },
     "execution_count": 36,
     "metadata": {},
     "output_type": "execute_result"
    }
   ],
   "source": [
    "list4.remove(7)\n",
    "list4"
   ]
  },
  {
   "cell_type": "code",
   "execution_count": 44,
   "id": "0e9e5e32-8d2a-4c28-bee6-be77dc8e759a",
   "metadata": {},
   "outputs": [
    {
     "data": {
      "text/plain": [
       "[0, 1, 2, 3, 4, 5, 6, 7]"
      ]
     },
     "execution_count": 44,
     "metadata": {},
     "output_type": "execute_result"
    }
   ],
   "source": [
    "list5=[2,1,4,7,5,0,3,6]\n",
    "list5.sort()\n",
    "list5"
   ]
  },
  {
   "cell_type": "code",
   "execution_count": 59,
   "id": "26df744f-9dda-409f-80fb-aeb0c9b528ca",
   "metadata": {},
   "outputs": [
    {
     "data": {
      "text/plain": [
       "[1, 2, 3, 4, 5, 6, 7, 8, 9]"
      ]
     },
     "execution_count": 59,
     "metadata": {},
     "output_type": "execute_result"
    }
   ],
   "source": [
    "list6= list(range(1,10))\n",
    "list6"
   ]
  },
  {
   "cell_type": "code",
   "execution_count": 63,
   "id": "fe415b31-7c2b-4633-99f0-99589c3b98b5",
   "metadata": {},
   "outputs": [
    {
     "data": {
      "text/plain": [
       "[2, 4, 6, 8]"
      ]
     },
     "execution_count": 63,
     "metadata": {},
     "output_type": "execute_result"
    }
   ],
   "source": [
    "list6= list(range(2,10,2))\n",
    "list6"
   ]
  },
  {
   "cell_type": "code",
   "execution_count": 80,
   "id": "134fa78e-8bf1-4b85-877d-cd77e4bc115f",
   "metadata": {},
   "outputs": [
    {
     "name": "stdout",
     "output_type": "stream",
     "text": [
      "2\n",
      "1\n",
      "4\n",
      "7\n",
      "5\n",
      "0\n",
      "3\n",
      "6\n"
     ]
    }
   ],
   "source": [
    "#for loop\n",
    "list7=[2,1,4,7,5,0,3,6]\n",
    "for x in list7:\n",
    "     print(x)\n",
    "       "
   ]
  },
  {
   "cell_type": "code",
   "execution_count": 96,
   "id": "88f2ce49-9cff-4662-937b-6b842011f6f9",
   "metadata": {},
   "outputs": [
    {
     "name": "stdout",
     "output_type": "stream",
     "text": [
      "28\n"
     ]
    }
   ],
   "source": [
    "sum2=0\n",
    "for x in list7:\n",
    "    sum2=sum2+x\n",
    "print(sum2)\n",
    "      \n",
    "       "
   ]
  },
  {
   "cell_type": "code",
   "execution_count": 118,
   "id": "dea5a1a9-9d89-4929-878f-ebb33c45944d",
   "metadata": {},
   "outputs": [
    {
     "data": {
      "text/plain": [
       "{'Name': 'Mazharul', 'ID': '205'}"
      ]
     },
     "execution_count": 118,
     "metadata": {},
     "output_type": "execute_result"
    }
   ],
   "source": [
    "#dictionary\n",
    "myself = {\"Name\": \"Mazharul\", \"ID\" : \"205\"}\n",
    "myself"
   ]
  },
  {
   "cell_type": "code",
   "execution_count": 120,
   "id": "7f826a64-d572-44ba-9ca8-7b10d52fe757",
   "metadata": {},
   "outputs": [
    {
     "name": "stdout",
     "output_type": "stream",
     "text": [
      "Mazharul\n"
     ]
    }
   ],
   "source": [
    "print(myself[\"Name\"])"
   ]
  },
  {
   "cell_type": "code",
   "execution_count": 122,
   "id": "815fec34-f962-4d78-88a3-b3f04eb26835",
   "metadata": {},
   "outputs": [
    {
     "name": "stdout",
     "output_type": "stream",
     "text": [
      "None\n"
     ]
    }
   ],
   "source": [
    "print(myself.get(\"Phone\"))"
   ]
  },
  {
   "cell_type": "code",
   "execution_count": 126,
   "id": "e0631d1f-566b-47b8-a70c-6b7905a6a349",
   "metadata": {},
   "outputs": [
    {
     "name": "stdout",
     "output_type": "stream",
     "text": [
      "{'Name': 'Mazharul', 'ID': '205', 'Phone': '01717311660'}\n"
     ]
    }
   ],
   "source": [
    "#add item\n",
    "myself[\"Phone\"]= \"01717311660\"\n",
    "print(myself)"
   ]
  },
  {
   "cell_type": "code",
   "execution_count": 128,
   "id": "723f5539-4d5b-49b7-840d-5cc60b7aa0b2",
   "metadata": {},
   "outputs": [
    {
     "name": "stdout",
     "output_type": "stream",
     "text": [
      "{'Name': 'Mazharul', 'ID': '205', 'Phone': '01723232300'}\n"
     ]
    }
   ],
   "source": [
    "#change item\n",
    "myself[\"Phone\"]= \"01723232300\"\n",
    "print(myself)"
   ]
  },
  {
   "cell_type": "code",
   "execution_count": 130,
   "id": "36e48ceb-aa23-4bd5-99e8-c2a2b90b3a5a",
   "metadata": {},
   "outputs": [
    {
     "name": "stdout",
     "output_type": "stream",
     "text": [
      "{'Name': 'Mazharul', 'ID': '205'}\n"
     ]
    }
   ],
   "source": [
    "#REMOVE item\n",
    "myself.pop(\"Phone\")\n",
    "print(myself)"
   ]
  },
  {
   "cell_type": "code",
   "execution_count": 134,
   "id": "a7810bc2-a008-4ac9-bbb9-3a4cf7815dd8",
   "metadata": {},
   "outputs": [
    {
     "name": "stdout",
     "output_type": "stream",
     "text": [
      "{'Name': 'Mazharul'}\n"
     ]
    }
   ],
   "source": [
    "del myself[\"ID\"]\n",
    "print(myself)"
   ]
  },
  {
   "cell_type": "code",
   "execution_count": 150,
   "id": "07c21ca3-20f5-41b2-bbd7-362f0f762598",
   "metadata": {},
   "outputs": [
    {
     "name": "stdout",
     "output_type": "stream",
     "text": [
      "{'myself1': {'Name': 'Mazharul', 'ID': '205', 'Phone': '01723232300'}, 'myself2': {'Name': 'karnal', 'ID': '2', 'Phone': '01717311660'}}\n"
     ]
    }
   ],
   "source": [
    "#multi dictionary\n",
    "myself1 = {\"Name\": \"Mazharul\", \"ID\" : \"205\", \"Phone\": \"01723232300\"}\n",
    "myself2 = {\"Name\": \"karnal\", \"ID\" : \"2\", \"Phone\": \"01717311660\"}\n",
    "Myself= {\"myself1\" : myself1,\n",
    "         \"myself2\" : myself2\n",
    "    }\n",
    "print(Myself)"
   ]
  },
  {
   "cell_type": "code",
   "execution_count": 154,
   "id": "284040db-bfdd-48fc-abb3-f938ad825e6b",
   "metadata": {},
   "outputs": [
    {
     "name": "stdout",
     "output_type": "stream",
     "text": [
      "('Mazharul', 'ID', 'Phone')\n"
     ]
    }
   ],
   "source": [
    "#tuple\n",
    "myself3 =(\"Mazharul\", \"ID\" , \"Phone\")\n",
    "print(myself3)"
   ]
  },
  {
   "cell_type": "code",
   "execution_count": 160,
   "id": "9ba8b1d6-746f-4a3b-8f72-5d6c202e712e",
   "metadata": {},
   "outputs": [
    {
     "name": "stdout",
     "output_type": "stream",
     "text": [
      "{1, 2, 3, 4, 5}\n",
      "{4, 5, 6, 7, 8}\n"
     ]
    }
   ],
   "source": [
    "#set\n",
    "set1 = {1,2,3,4,5}\n",
    "set2 = {4,5,6,7,8} \n",
    "print(set1)\n",
    "print(set2)"
   ]
  },
  {
   "cell_type": "code",
   "execution_count": 162,
   "id": "a34fc46a-cf9e-4c51-8015-5f3a48267757",
   "metadata": {},
   "outputs": [
    {
     "name": "stdout",
     "output_type": "stream",
     "text": [
      "{1, 2, 3, 4, 5, 6, 7, 8}\n"
     ]
    }
   ],
   "source": [
    "#union\n",
    "print(set1 | set2)"
   ]
  },
  {
   "cell_type": "code",
   "execution_count": 164,
   "id": "be63d581-2b40-4b49-b872-087293221c59",
   "metadata": {},
   "outputs": [
    {
     "name": "stdout",
     "output_type": "stream",
     "text": [
      "{4, 5}\n"
     ]
    }
   ],
   "source": [
    "print(set1 & set2)"
   ]
  },
  {
   "cell_type": "code",
   "execution_count": 166,
   "id": "b5da0bef-5ab2-4a22-b796-a582e783e5f9",
   "metadata": {},
   "outputs": [
    {
     "name": "stdout",
     "output_type": "stream",
     "text": [
      "{1, 2, 3}\n"
     ]
    }
   ],
   "source": [
    "print(set1 - set2)"
   ]
  },
  {
   "cell_type": "code",
   "execution_count": 1,
   "id": "76b6d56c-6141-4694-b2c5-5a6acb8bff22",
   "metadata": {},
   "outputs": [
    {
     "name": "stdout",
     "output_type": "stream",
     "text": [
      "1\n"
     ]
    }
   ],
   "source": [
    "#recursion\n",
    "def refun(n):    \n",
    "    if n==0:\n",
    "      return 1 \n",
    "    else:\n",
    "        return n* refun(n-1)\n",
    "print(refun(0))        "
   ]
  },
  {
   "cell_type": "code",
   "execution_count": 21,
   "id": "8d93a3e8-b359-46e2-b170-d0ba9b8ac691",
   "metadata": {},
   "outputs": [],
   "source": [
    " #class create\n",
    "class Animal:\n",
    "    Age = \"\"\n",
    "    Food = \"\"\n",
    "    Color = \"\"\n",
    "    "
   ]
  },
  {
   "cell_type": "code",
   "execution_count": 23,
   "id": "85f5e334-8460-49cd-ba11-d08fac20f44d",
   "metadata": {},
   "outputs": [
    {
     "name": "stdout",
     "output_type": "stream",
     "text": [
      "Age: {Dog.Age}, Food: {Dog.Food}, Color: {Dog.Color}\n"
     ]
    }
   ],
   "source": [
    "#object create \n",
    "Dog = Animal()\n",
    "Dog.Age = 2\n",
    "Dog.Food = \"Chicken\"\n",
    "Dog.Color = \"Red\"\n",
    "print(\"Age: {Dog.Age}, Food: {Dog.Food}, Color: {Dog.Color}\")"
   ]
  },
  {
   "cell_type": "code",
   "execution_count": 25,
   "id": "3959c904-0d76-4c44-9d52-bb2782886480",
   "metadata": {},
   "outputs": [
    {
     "name": "stdout",
     "output_type": "stream",
     "text": [
      "Age: {Cat.Age}, Food: {Cat.Food}, Color: {Cat.Color}\n"
     ]
    }
   ],
   "source": [
    "Cat = Animal()\n",
    "Cat.Age = 50\n",
    "Cat.Food = \"fish\"\n",
    "Cat.Color = \"Black\"\n",
    "print(\"Age: {Cat.Age}, Food: {Cat.Food}, Color: {Cat.Color}\")"
   ]
  },
  {
   "cell_type": "code",
   "execution_count": 62,
   "id": "2bd65b7c-fc3a-4fbc-a320-51b838cf0884",
   "metadata": {},
   "outputs": [
    {
     "name": "stdout",
     "output_type": "stream",
     "text": [
      "Age: 5, Food: Meat, Color: Black-White\n",
      "good\n",
      "Age: 10, Food: Meat, Color: Red\n",
      "good\n",
      "Age: 15, Food: Milk, Color: Black\n",
      "good\n"
     ]
    }
   ],
   "source": [
    "#Method\n",
    "class animal3:\n",
    "    def get_value(self, age, food, color):\n",
    "        self.age=age\n",
    "        self.food=food\n",
    "        self.color= color\n",
    "\n",
    "    def printall(self):\n",
    "      print(f\"Age: {self.age}, Food: {self.food}, Color: {self.color}\")\n",
    "      print(\"good\") \n",
    "\n",
    "#object\n",
    "Tiger = animal3()\n",
    "Tiger.get_value(5, \"Meat\", \"Black-White\")\n",
    "Tiger.printall()\n",
    "\n",
    "Dog = animal3()\n",
    "Dog.get_value(10, \"Meat\", \"Red\")\n",
    "Dog.printall()\n",
    "\n",
    "Cat = animal3()\n",
    "Cat.get_value(15, \"Milk\", \"Black\")\n",
    "Cat.printall()"
   ]
  },
  {
   "cell_type": "code",
   "execution_count": 64,
   "id": "b2925a44-630b-429a-be4c-f4b46c9f8496",
   "metadata": {},
   "outputs": [
    {
     "name": "stdout",
     "output_type": "stream",
     "text": [
      "Age: 5, Food: Meat, Color: Black-White\n",
      "good\n",
      "Age: 10, Food: Meat, Color: Red\n",
      "good\n",
      "Age: 15, Food: Milk, Color: Black\n",
      "good\n"
     ]
    }
   ],
   "source": [
    "#Constructor\n",
    "class animal3:\n",
    "    def __init__(self, age, food, color):\n",
    "        self.age=age\n",
    "        self.food=food\n",
    "        self.color= color\n",
    "\n",
    "    def printall(self):\n",
    "      print(f\"Age: {self.age}, Food: {self.food}, Color: {self.color}\")\n",
    "      print(\"good\") \n",
    "\n",
    "#object\n",
    "Tiger = animal3(5, \"Meat\", \"Black-White\")\n",
    "Tiger.printall()\n",
    "\n",
    "Dog = animal3(10, \"Meat\", \"Red\")\n",
    "Dog.printall()\n",
    "\n",
    "Cat = animal3(15, \"Milk\", \"Black\")\n",
    "Cat.printall()"
   ]
  },
  {
   "cell_type": "code",
   "execution_count": 95,
   "id": "661510ca-2a33-4dad-9bac-93cff07bcd05",
   "metadata": {},
   "outputs": [
    {
     "name": "stdout",
     "output_type": "stream",
     "text": [
      "Sum of: 10\n"
     ]
    }
   ],
   "source": [
    "class Sum3:\n",
    "    def __init__(self, a, b):\n",
    "        self.a = a\n",
    "        self.b = b\n",
    "\n",
    "    def Add(self):\n",
    "        return self.a + self.b\n",
    "\n",
    "#object\n",
    "Sum3 = Sum3(5, 5)\n",
    "Reselt = Sum3.Add()\n",
    "print(f\"Sum of:\" ,Reselt)"
   ]
  },
  {
   "cell_type": "code",
   "execution_count": 3,
   "id": "087cc104-59de-4ec9-8c91-4aed94d27ddd",
   "metadata": {},
   "outputs": [
    {
     "name": "stdout",
     "output_type": "stream",
     "text": [
      "Sum of: 15\n"
     ]
    }
   ],
   "source": [
    "#Best\n",
    "class Adding:\n",
    "    def __init__(self, a, b):\n",
    "        self.a = a\n",
    "        self.b = b\n",
    "\n",
    "    def sum2(self):\n",
    "        Reselt =self.a + self.b\n",
    "        print(f\"Sum of:\" ,Reselt)\n",
    "\n",
    "#object\n",
    "Add = Adding(5, 10)\n",
    "Add.sum2()\n"
   ]
  },
  {
   "cell_type": "code",
   "execution_count": 1,
   "id": "b222dd67-de38-4210-9e1a-30ee8c70849d",
   "metadata": {},
   "outputs": [
    {
     "name": "stdout",
     "output_type": "stream",
     "text": [
      "Sum of: 15\n"
     ]
    }
   ],
   "source": [
    "#short\n",
    "class Adding:\n",
    "    def __init__(self, a, b):\n",
    "        self.a = a\n",
    "        self.b = b\n",
    "        Reselt =self.a + self.b\n",
    "        print(f\"Sum of:\" ,Reselt)\n",
    "#object\n",
    "Add = Adding(5, 10)"
   ]
  },
  {
   "cell_type": "code",
   "execution_count": 38,
   "id": "d465356e-f7b3-4fe9-9b7e-e8ba365b2ce8",
   "metadata": {},
   "outputs": [
    {
     "name": "stdout",
     "output_type": "stream",
     "text": [
      "I am Karnal\n",
      "I like Python\n",
      "I use it most of the time\n",
      "It is use for Data Analysis\n"
     ]
    }
   ],
   "source": [
    "#inheritance\n",
    "class myself:  # Parent class \n",
    "    def text1(self):\n",
    "        print(\"I am Karnal\")\n",
    "\n",
    "    def text2(self):\n",
    "        print(\"I like Python\")\n",
    "\n",
    "    def text3(self):\n",
    "        print(\"I use it most of the time\")\n",
    "\n",
    "class pythonlan(myself): #child class \n",
    "     def text4(self):\n",
    "        print(\"It is use for Data Analysis\")\n",
    "        \n",
    "\n",
    "selfinfro = pythonlan()\n",
    "selfinfro.text1()\n",
    "selfinfro.text2()\n",
    "selfinfro.text3()\n",
    "selfinfro.text4()\n",
    "\n"
   ]
  },
  {
   "cell_type": "code",
   "execution_count": 40,
   "id": "becc6e82-9e99-4311-bc60-512aad53356f",
   "metadata": {},
   "outputs": [
    {
     "name": "stdout",
     "output_type": "stream",
     "text": [
      "Python is use for Data Analysis\n",
      "I am Karnal\n"
     ]
    }
   ],
   "source": [
    "#Method oveeriding\n",
    "class myself:  # Parent class \n",
    "    def __init__(self):\n",
    "        print(\"I am Karnal\")\n",
    "\n",
    "class pythonlan(myself): #child class \n",
    "     def __init__(self):\n",
    "        print(\"Python is use for Data Analysis\")\n",
    "        super().__init__()\n",
    "\n",
    "selfinfro = pythonlan()\n"
   ]
  },
  {
   "cell_type": "code",
   "execution_count": 59,
   "id": "1f09be63-c08a-4d8e-ac2d-063950781798",
   "metadata": {},
   "outputs": [
    {
     "name": "stdout",
     "output_type": "stream",
     "text": [
      "I am Karnal\n",
      "I like Python\n",
      "It is use for Data Analysis\n"
     ]
    }
   ],
   "source": [
    "#Multilevel\n",
    "class myself:  # Parent class \n",
    "    def text1(self):\n",
    "        print(\"I am Karnal\")\n",
    "\n",
    "class myself1(myself):    \n",
    "    def text2(self):\n",
    "        print(\"I like Python\")\n",
    "\n",
    "class pythonlan(myself1): #child class \n",
    "     def __init__(self):\n",
    "        super().text1()\n",
    "        super().text2()\n",
    "        print(\"It is use for Data Analysis\")\n",
    "        \n",
    "\n",
    "selfinfro = pythonlan()\n"
   ]
  },
  {
   "cell_type": "code",
   "execution_count": 69,
   "id": "14dca8a3-4165-41e8-96a7-043b120b2d81",
   "metadata": {},
   "outputs": [
    {
     "name": "stdout",
     "output_type": "stream",
     "text": [
      "I am Karnal\n",
      "I like Python\n",
      "It is use for Data Analysis\n"
     ]
    }
   ],
   "source": [
    "#Multiple\n",
    "class myself:  # Parent class \n",
    "    def text1(self):\n",
    "        print(\"I am Karnal\")\n",
    "\n",
    "class myself1:    \n",
    "    def text2(self):\n",
    "        print(\"I like Python\")\n",
    "\n",
    "class pythonlan(myself,myself1): #child class \n",
    "     def __init__(self):\n",
    "        super().text1()\n",
    "        super().text2()\n",
    "        print(\"It is use for Data Analysis\")\n",
    "        \n",
    "\n",
    "selfinfro = pythonlan()"
   ]
  },
  {
   "cell_type": "code",
   "execution_count": null,
   "id": "cfce1183-4bc0-4ae1-b8e7-f6a826953474",
   "metadata": {},
   "outputs": [],
   "source": []
  }
 ],
 "metadata": {
  "kernelspec": {
   "display_name": "Python 3 (ipykernel)",
   "language": "python",
   "name": "python3"
  },
  "language_info": {
   "codemirror_mode": {
    "name": "ipython",
    "version": 3
   },
   "file_extension": ".py",
   "mimetype": "text/x-python",
   "name": "python",
   "nbconvert_exporter": "python",
   "pygments_lexer": "ipython3",
   "version": "3.12.4"
  }
 },
 "nbformat": 4,
 "nbformat_minor": 5
}
